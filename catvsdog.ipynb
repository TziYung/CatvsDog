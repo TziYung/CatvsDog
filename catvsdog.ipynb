{
 "cells": [
  {
   "cell_type": "code",
   "execution_count": 1,
   "metadata": {},
   "outputs": [],
   "source": [
    "import tensorflow\n",
    "from tensorflow import keras\n",
    "from matplotlib import pyplot\n",
    "import os\n",
    "import cv2\n",
    "import random\n",
    "import pickle\n",
    "import numpy"
   ]
  },
  {
   "cell_type": "code",
   "execution_count": 2,
   "metadata": {},
   "outputs": [],
   "source": [
    "categories=['Cat','Dog']\n",
    "traindata=[]\n",
    "def create_train_data(Data):\n",
    "    Dir=\"D:\\\\PetImages\"\n",
    "    categories=['Cat','Dog']\n",
    "    for a in categories:\n",
    "        Path=os.path.join(Dir,a)\n",
    "        classnum=categories.index(a)\n",
    "        for b in os.listdir(Path):\n",
    "            try:\n",
    "                img=cv2.imread(os.path.join(Path,b))\n",
    "                img=cv2.resize(img,(224,224))\n",
    "                Data.append([img,classnum])\n",
    "            except:\n",
    "                pass"
   ]
  },
  {
   "cell_type": "code",
   "execution_count": 3,
   "metadata": {},
   "outputs": [],
   "source": [
    "create_train_data(traindata)\n",
    "random.shuffle(traindata)\n",
    "with open('D:\\\\catvsdog.pickle','wb') as e:\n",
    "    pickle.dump(traindata,e)"
   ]
  },
  {
   "cell_type": "code",
   "execution_count": 4,
   "metadata": {},
   "outputs": [],
   "source": [
    "with open('D:\\\\catvsdog.pickle','rb') as e:\n",
    "    raw_data=pickle.load(e)[:15000]\n",
    "train_data=[]\n",
    "train_ans=[]\n",
    "for a,b in raw_data:\n",
    "    train_data.append(a)\n",
    "    train_ans.append(b)\n",
    "raw_data=[]\n",
    "train_data=numpy.array(train_data)\n",
    "train_ans=numpy.array(train_ans)"
   ]
  },
  {
   "cell_type": "code",
   "execution_count": 2,
   "metadata": {},
   "outputs": [],
   "source": [
    "import tensorflow as tf\n",
    "gpus= tf.config.experimental.list_physical_devices('GPU')\n",
    "tf.config.experimental.set_memory_growth(gpus[0], True)\n",
    "# print(gpus)"
   ]
  },
  {
   "cell_type": "markdown",
   "metadata": {},
   "source": [
    "# model 1"
   ]
  },
  {
   "cell_type": "code",
   "execution_count": 5,
   "metadata": {
    "scrolled": true
   },
   "outputs": [
    {
     "name": "stdout",
     "output_type": "stream",
     "text": [
      "Train on 15000 samples\n",
      "Epoch 1/20\n",
      "15000/15000 [==============================] - 59s 4ms/sample - loss: 1.1084 - accuracy: 0.5558\n",
      "Epoch 2/20\n",
      "15000/15000 [==============================] - 56s 4ms/sample - loss: 0.6436 - accuracy: 0.6607\n",
      "Epoch 3/20\n",
      "15000/15000 [==============================] - 56s 4ms/sample - loss: 0.5942 - accuracy: 0.6951\n",
      "Epoch 4/20\n",
      "15000/15000 [==============================] - 56s 4ms/sample - loss: 0.5398 - accuracy: 0.7433\n",
      "Epoch 5/20\n",
      "15000/15000 [==============================] - 55s 4ms/sample - loss: 0.4702 - accuracy: 0.7836\n",
      "Epoch 6/20\n",
      "15000/15000 [==============================] - 55s 4ms/sample - loss: 0.4037 - accuracy: 0.8210\n",
      "Epoch 7/20\n",
      "15000/15000 [==============================] - 55s 4ms/sample - loss: 0.3476 - accuracy: 0.8517\n",
      "Epoch 8/20\n",
      "15000/15000 [==============================] - 55s 4ms/sample - loss: 0.3019 - accuracy: 0.8731\n",
      "Epoch 9/20\n",
      "15000/15000 [==============================] - 55s 4ms/sample - loss: 0.2629 - accuracy: 0.8938\n",
      "Epoch 10/20\n",
      "15000/15000 [==============================] - 55s 4ms/sample - loss: 0.2307 - accuracy: 0.9065\n",
      "Epoch 11/20\n",
      "15000/15000 [==============================] - 55s 4ms/sample - loss: 0.2006 - accuracy: 0.9184\n",
      "Epoch 12/20\n",
      "15000/15000 [==============================] - 55s 4ms/sample - loss: 0.1776 - accuracy: 0.9283\n",
      "Epoch 13/20\n",
      "15000/15000 [==============================] - 55s 4ms/sample - loss: 0.1683 - accuracy: 0.9372\n",
      "Epoch 14/20\n",
      "15000/15000 [==============================] - 55s 4ms/sample - loss: 0.1747 - accuracy: 0.9334\n",
      "Epoch 15/20\n",
      "15000/15000 [==============================] - 55s 4ms/sample - loss: 0.1365 - accuracy: 0.9481\n",
      "Epoch 16/20\n",
      "15000/15000 [==============================] - 55s 4ms/sample - loss: 0.1350 - accuracy: 0.9475\n",
      "Epoch 17/20\n",
      "15000/15000 [==============================] - 55s 4ms/sample - loss: 0.1176 - accuracy: 0.9565\n",
      "Epoch 18/20\n",
      "15000/15000 [==============================] - 56s 4ms/sample - loss: 0.1092 - accuracy: 0.9583\n",
      "Epoch 19/20\n",
      "15000/15000 [==============================] - 56s 4ms/sample - loss: 0.0976 - accuracy: 0.9636\n",
      "Epoch 20/20\n",
      "15000/15000 [==============================] - 55s 4ms/sample - loss: 0.0930 - accuracy: 0.9633\n"
     ]
    },
    {
     "data": {
      "text/plain": [
       "<tensorflow.python.keras.callbacks.History at 0x1e470457240>"
      ]
     },
     "execution_count": 5,
     "metadata": {},
     "output_type": "execute_result"
    }
   ],
   "source": [
    "model=keras.Sequential([\n",
    "\n",
    "    \n",
    "    \n",
    "    keras.layers.Conv2D(16,(3,3),use_bias=False,input_shape=(train_data.shape[1:])),\n",
    "    keras.layers.BatchNormalization(),\n",
    "    keras.layers.Activation('relu'),\n",
    "    \n",
    "    keras.layers.Conv2D(16,(3,3),use_bias=False),\n",
    "    keras.layers.BatchNormalization(),\n",
    "    keras.layers.Activation('relu'),\n",
    "    \n",
    "    keras.layers.MaxPooling2D(2,2),\n",
    "                                    \n",
    "    keras.layers.Conv2D(32,(3,3),use_bias=False),\n",
    "    keras.layers.BatchNormalization(),\n",
    "    keras.layers.Activation('relu'),\n",
    "                                    \n",
    "    keras.layers.Conv2D(32,(3,3),use_bias=False),\n",
    "    keras.layers.BatchNormalization(),\n",
    "    keras.layers.Activation('relu'),\n",
    "    \n",
    "    keras.layers.MaxPooling2D(2,2),\n",
    "                                    \n",
    "    keras.layers.Conv2D(64,(3,3),use_bias=False),\n",
    "    keras.layers.BatchNormalization(),\n",
    "    keras.layers.Activation('relu'),\n",
    "                                    \n",
    "    keras.layers.Conv2D(64,(3,3),use_bias=False),\n",
    "    keras.layers.BatchNormalization(),\n",
    "    keras.layers.Activation('relu'),\n",
    "    \n",
    "    keras.layers.MaxPooling2D(2,2),\n",
    "    \n",
    "    keras.layers.Conv2D(128,(3,3),use_bias=False),\n",
    "    keras.layers.BatchNormalization(),\n",
    "    keras.layers.Activation('relu'),\n",
    "                                    \n",
    "    keras.layers.Conv2D(128,(3,3),use_bias=False),\n",
    "    keras.layers.BatchNormalization(),\n",
    "    keras.layers.Activation('relu'),\n",
    "    \n",
    "    keras.layers.Conv2D(128,(3,3),use_bias=False),\n",
    "    keras.layers.BatchNormalization(),\n",
    "    keras.layers.Activation('relu'),\n",
    "    \n",
    "    keras.layers.MaxPooling2D(2,2),                       \n",
    "                                    \n",
    "    keras.layers.Flatten(),\n",
    "    keras.layers.Dropout(0.5),\n",
    "    keras.layers.Dense(2048,activation='relu'),\n",
    "    keras.layers.Dropout(0.5),\n",
    "    keras.layers.Dense(2048,activation='relu'),\n",
    "    keras.layers.Dropout(0.5),\n",
    "    keras.layers.Dense(1,activation='sigmoid')\n",
    "    ])\n",
    "model.compile(optimizer='adam',loss='binary_crossentropy',metrics=['accuracy'])\n",
    "model.fit(train_data,train_ans,epochs=20)\n"
   ]
  },
  {
   "cell_type": "code",
   "execution_count": 6,
   "metadata": {},
   "outputs": [
    {
     "name": "stdout",
     "output_type": "stream",
     "text": [
      "9941/9941 [==============================] - 10s 977us/sample - loss: 0.1914 - accuracy: 0.9303\n"
     ]
    },
    {
     "data": {
      "text/plain": [
       "[0.19135244394101772, 0.93028873]"
      ]
     },
     "execution_count": 6,
     "metadata": {},
     "output_type": "execute_result"
    }
   ],
   "source": [
    "test_data=[]\n",
    "test_ans=[]\n",
    "with open('D:\\\\catvsdog.pickle','rb') as e:\n",
    "    raw_data=pickle.load(e)[15000:]\n",
    "for a,b in raw_data:\n",
    "    test_data.append(a)\n",
    "    test_ans.append(b)\n",
    "test_data=numpy.array(test_data)\n",
    "test_ans=numpy.array(test_ans)\n",
    "model.evaluate(test_data,test_ans)"
   ]
  },
  {
   "cell_type": "markdown",
   "metadata": {},
   "source": [
    "# model 2"
   ]
  },
  {
   "cell_type": "code",
   "execution_count": 9,
   "metadata": {},
   "outputs": [
    {
     "name": "stdout",
     "output_type": "stream",
     "text": [
      "Train on 15000 samples\n",
      "Epoch 1/20\n",
      "15000/15000 [==============================] - 846s 56ms/sample - loss: 1.1398 - accuracy: 0.5847\n",
      "Epoch 2/20\n",
      "15000/15000 [==============================] - 308s 21ms/sample - loss: 0.7292 - accuracy: 0.6479\n",
      "Epoch 3/20\n",
      "15000/15000 [==============================] - 309s 21ms/sample - loss: 0.5871 - accuracy: 0.7064\n",
      "Epoch 4/20\n",
      "15000/15000 [==============================] - 309s 21ms/sample - loss: 0.5464 - accuracy: 0.7303\n",
      "Epoch 5/20\n",
      "15000/15000 [==============================] - 308s 21ms/sample - loss: 0.4900 - accuracy: 0.7624\n",
      "Epoch 6/20\n",
      "15000/15000 [==============================] - 309s 21ms/sample - loss: 0.4527 - accuracy: 0.7868\n",
      "Epoch 7/20\n",
      "15000/15000 [==============================] - 307s 20ms/sample - loss: 0.3837 - accuracy: 0.8259\n",
      "Epoch 8/20\n",
      "15000/15000 [==============================] - 306s 20ms/sample - loss: 0.3229 - accuracy: 0.8599\n",
      "Epoch 9/20\n",
      "15000/15000 [==============================] - 307s 20ms/sample - loss: 0.2835 - accuracy: 0.8766\n",
      "Epoch 10/20\n",
      "15000/15000 [==============================] - 309s 21ms/sample - loss: 0.2432 - accuracy: 0.8992\n",
      "Epoch 11/20\n",
      "15000/15000 [==============================] - 308s 21ms/sample - loss: 0.2101 - accuracy: 0.9117\n",
      "Epoch 12/20\n",
      "15000/15000 [==============================] - 308s 21ms/sample - loss: 0.1713 - accuracy: 0.9308\n",
      "Epoch 13/20\n",
      "15000/15000 [==============================] - 307s 20ms/sample - loss: 0.1565 - accuracy: 0.9373\n",
      "Epoch 14/20\n",
      "15000/15000 [==============================] - 309s 21ms/sample - loss: 0.1357 - accuracy: 0.9446\n",
      "Epoch 15/20\n",
      "15000/15000 [==============================] - 309s 21ms/sample - loss: 0.1131 - accuracy: 0.9547\n",
      "Epoch 16/20\n",
      "15000/15000 [==============================] - 308s 21ms/sample - loss: 0.0979 - accuracy: 0.9606\n",
      "Epoch 17/20\n",
      "15000/15000 [==============================] - 306s 20ms/sample - loss: 0.0864 - accuracy: 0.9670\n",
      "Epoch 18/20\n",
      "15000/15000 [==============================] - 306s 20ms/sample - loss: 0.0778 - accuracy: 0.9692\n",
      "Epoch 19/20\n",
      "15000/15000 [==============================] - 306s 20ms/sample - loss: 0.0659 - accuracy: 0.9737\n",
      "Epoch 20/20\n",
      "15000/15000 [==============================] - 306s 20ms/sample - loss: 0.0947 - accuracy: 0.9640\n"
     ]
    },
    {
     "data": {
      "text/plain": [
       "<tensorflow.python.keras.callbacks.History at 0x201a8e332b0>"
      ]
     },
     "execution_count": 9,
     "metadata": {},
     "output_type": "execute_result"
    }
   ],
   "source": [
    "img=keras.Input((224,224,3))\n",
    "\n",
    "x=keras.layers.Conv2D(32,(3,3))(img)\n",
    "x=keras.layers.BatchNormalization()(x)\n",
    "x=keras.layers.Activation('relu')(x)\n",
    "\n",
    "x=keras.layers.Conv2D(32,(3,3))(x)\n",
    "x=keras.layers.BatchNormalization()(x)\n",
    "x=keras.layers.Activation('relu')(x)\n",
    "\n",
    "x=keras.layers.MaxPooling2D(2,2)(x)\n",
    "#b1\n",
    "x=keras.layers.Conv2D(64,(3,3),padding='same')(x)\n",
    "x=keras.layers.BatchNormalization()(x)\n",
    "x=keras.layers.Activation('relu')(x)\n",
    "\n",
    "x=keras.layers.Conv2D(64,(3,3),padding='same')(x)\n",
    "x=keras.layers.BatchNormalization()(x)\n",
    "block=keras.layers.Activation('relu')(x)\n",
    "\n",
    "x=keras.layers.Conv2D(64,(3,3),padding='same')(block)\n",
    "x=keras.layers.BatchNormalization()(x)\n",
    "x=keras.layers.Activation('relu')(x)\n",
    "\n",
    "x=keras.layers.Conv2D(64,(3,3),padding='same')(x)\n",
    "x=keras.layers.BatchNormalization()(x)\n",
    "x=keras.layers.Activation('relu')(x)\n",
    "\n",
    "block=keras.layers.add([x,block])\n",
    "block=keras.layers.MaxPooling2D(2,2)(block)\n",
    "\n",
    "x=keras.layers.Conv2D(128,(3,3),padding='same')(block)\n",
    "x=keras.layers.BatchNormalization()(x)\n",
    "x=keras.layers.Activation('relu')(x)\n",
    "\n",
    "x=keras.layers.Conv2D(128,(3,3),padding='same')(x)\n",
    "x=keras.layers.BatchNormalization()(x)\n",
    "block=keras.layers.Activation('relu')(x)\n",
    "\n",
    "x=keras.layers.Conv2D(128,(3,3),padding='same')(block)\n",
    "x=keras.layers.BatchNormalization()(x)\n",
    "x=keras.layers.Activation('relu')(x)\n",
    "\n",
    "x=keras.layers.Conv2D(128,(3,3),padding='same')(x)\n",
    "x=keras.layers.BatchNormalization()(x)\n",
    "x=keras.layers.Activation('relu')(x)\n",
    "\n",
    "block=keras.layers.add([x,block])\n",
    "block=keras.layers.MaxPooling2D(2,2)(block)\n",
    "\n",
    "x=keras.layers.Conv2D(256,(3,3),padding='same')(block)\n",
    "x=keras.layers.BatchNormalization()(x)\n",
    "x=keras.layers.Activation('relu')(x)\n",
    "\n",
    "x=keras.layers.Conv2D(256,(3,3),padding='same')(x)\n",
    "x=keras.layers.BatchNormalization()(x)\n",
    "x=keras.layers.Activation('relu')(x)\n",
    "\n",
    "\n",
    "\n",
    "\n",
    "x=keras.layers.MaxPooling2D(2,2)(x)\n",
    "x=keras.layers.Flatten()(x)\n",
    "x=keras.layers.Dropout(0.3)(x)\n",
    "x=keras.layers.Dense(1)(x)\n",
    "x=keras.layers.Activation('sigmoid')(x)\n",
    "\n",
    "\n",
    "model=keras.Model(inputs=img,outputs=x)\n",
    "model.compile(optimizer='adam',loss='binary_crossentropy',metrics=['accuracy'])\n",
    "model.fit(train_data,train_ans,epochs=20)\n",
    "# model.summary()\n"
   ]
  },
  {
   "cell_type": "code",
   "execution_count": 11,
   "metadata": {},
   "outputs": [
    {
     "name": "stdout",
     "output_type": "stream",
     "text": [
      "9941/9941 [==============================] - 36s 4ms/sample - loss: 0.2354 - accuracy: 0.9166\n"
     ]
    },
    {
     "data": {
      "text/plain": [
       "[0.23537135257763878, 0.916608]"
      ]
     },
     "execution_count": 11,
     "metadata": {},
     "output_type": "execute_result"
    }
   ],
   "source": [
    "test_data=[]\n",
    "test_ans=[]\n",
    "with open('D:\\\\catvsdog.pickle','rb') as e:\n",
    "    raw_data=pickle.load(e)[15000:]\n",
    "for a,b in raw_data:\n",
    "    test_data.append(a)\n",
    "    test_ans.append(b)\n",
    "test_data=numpy.array(test_data)\n",
    "test_ans=numpy.array(test_ans)\n",
    "model.evaluate(test_data,test_ans)"
   ]
  },
  {
   "cell_type": "markdown",
   "metadata": {},
   "source": [
    "# resnet 50"
   ]
  },
  {
   "cell_type": "code",
   "execution_count": 13,
   "metadata": {},
   "outputs": [
    {
     "name": "stdout",
     "output_type": "stream",
     "text": [
      "Train on 15000 samples\n",
      "Epoch 1/20\n",
      "15000/15000 [==============================] - 82s 5ms/sample - loss: 0.1914 - accuracy: 0.9554\n",
      "Epoch 2/20\n",
      "15000/15000 [==============================] - 81s 5ms/sample - loss: 0.1352 - accuracy: 0.9741\n",
      "Epoch 3/20\n",
      "15000/15000 [==============================] - 81s 5ms/sample - loss: 0.1245 - accuracy: 0.9773\n",
      "Epoch 4/20\n",
      "15000/15000 [==============================] - 81s 5ms/sample - loss: 0.1093 - accuracy: 0.9815\n",
      "Epoch 5/20\n",
      "15000/15000 [==============================] - 81s 5ms/sample - loss: 0.1223 - accuracy: 0.9817\n",
      "Epoch 6/20\n",
      "15000/15000 [==============================] - 81s 5ms/sample - loss: 0.0987 - accuracy: 0.9849\n",
      "Epoch 7/20\n",
      "15000/15000 [==============================] - 81s 5ms/sample - loss: 0.1157 - accuracy: 0.9843\n",
      "Epoch 8/20\n",
      "15000/15000 [==============================] - 81s 5ms/sample - loss: 0.1064 - accuracy: 0.9849\n",
      "Epoch 9/20\n",
      "15000/15000 [==============================] - 81s 5ms/sample - loss: 0.1148 - accuracy: 0.9845\n",
      "Epoch 10/20\n",
      "15000/15000 [==============================] - 81s 5ms/sample - loss: 0.1224 - accuracy: 0.9863\n",
      "Epoch 11/20\n",
      "15000/15000 [==============================] - 81s 5ms/sample - loss: 0.0975 - accuracy: 0.9873\n",
      "Epoch 12/20\n",
      "15000/15000 [==============================] - 81s 5ms/sample - loss: 0.1116 - accuracy: 0.9871\n",
      "Epoch 13/20\n",
      "15000/15000 [==============================] - 81s 5ms/sample - loss: 0.0983 - accuracy: 0.9877\n",
      "Epoch 14/20\n",
      "15000/15000 [==============================] - 81s 5ms/sample - loss: 0.0964 - accuracy: 0.9873\n",
      "Epoch 15/20\n",
      "15000/15000 [==============================] - 79s 5ms/sample - loss: 0.1311 - accuracy: 0.9858\n",
      "Epoch 16/20\n",
      "15000/15000 [==============================] - 79s 5ms/sample - loss: 0.0908 - accuracy: 0.9885\n",
      "Epoch 17/20\n",
      "15000/15000 [==============================] - 79s 5ms/sample - loss: 0.0947 - accuracy: 0.9897\n",
      "Epoch 18/20\n",
      "15000/15000 [==============================] - 79s 5ms/sample - loss: 0.0998 - accuracy: 0.9896\n",
      "Epoch 19/20\n",
      "15000/15000 [==============================] - 79s 5ms/sample - loss: 0.1027 - accuracy: 0.9893\n",
      "Epoch 20/20\n",
      "15000/15000 [==============================] - 79s 5ms/sample - loss: 0.1015 - accuracy: 0.9905\n"
     ]
    },
    {
     "data": {
      "text/plain": [
       "<tensorflow.python.keras.callbacks.History at 0x1e63c674400>"
      ]
     },
     "execution_count": 13,
     "metadata": {},
     "output_type": "execute_result"
    }
   ],
   "source": [
    "resnet=tensorflow.keras.applications.ResNet50(include_top=False,weights='imagenet',input_shape=train_data.shape[1:])\n",
    "for layer in resnet.layers:\n",
    "    layer.trainable = False\n",
    "\n",
    "model=keras.Sequential([\n",
    "    resnet,\n",
    "    keras.layers.AveragePooling2D(2,2),\n",
    "    keras.layers.Flatten(),\n",
    "    keras.layers.Dropout(0.5),\n",
    "    keras.layers.Dense(1,activation='sigmoid')\n",
    "    ])\n",
    "model.compile(optimizer='adam',loss='binary_crossentropy',metrics=['accuracy'])\n",
    "model.fit(train_data,train_ans,epochs=20)\n"
   ]
  },
  {
   "cell_type": "code",
   "execution_count": 14,
   "metadata": {},
   "outputs": [
    {
     "name": "stdout",
     "output_type": "stream",
     "text": [
      "9941/9941 [==============================] - 42s 4ms/sample - loss: 0.6425 - accuracy: 0.9735\n"
     ]
    },
    {
     "data": {
      "text/plain": [
       "[0.6424847598940301, 0.9735439]"
      ]
     },
     "execution_count": 14,
     "metadata": {},
     "output_type": "execute_result"
    }
   ],
   "source": [
    "model.evaluate(test_data,test_ans)"
   ]
  },
  {
   "cell_type": "markdown",
   "metadata": {},
   "source": [
    "# resnet 50 with last 10 layers trainable"
   ]
  },
  {
   "cell_type": "code",
   "execution_count": 16,
   "metadata": {},
   "outputs": [
    {
     "name": "stdout",
     "output_type": "stream",
     "text": [
      "Train on 15000 samples\n",
      "Epoch 1/20\n",
      "15000/15000 [==============================] - 89s 6ms/sample - loss: 0.1066 - accuracy: 0.9655\n",
      "Epoch 2/20\n",
      "15000/15000 [==============================] - 87s 6ms/sample - loss: 0.0616 - accuracy: 0.9822\n",
      "Epoch 3/20\n",
      "15000/15000 [==============================] - 87s 6ms/sample - loss: 0.0413 - accuracy: 0.9891\n",
      "Epoch 4/20\n",
      "15000/15000 [==============================] - 87s 6ms/sample - loss: 0.0352 - accuracy: 0.9902\n",
      "Epoch 5/20\n",
      "15000/15000 [==============================] - 87s 6ms/sample - loss: 0.0255 - accuracy: 0.9925\n",
      "Epoch 6/20\n",
      "15000/15000 [==============================] - 87s 6ms/sample - loss: 0.0282 - accuracy: 0.9920\n",
      "Epoch 7/20\n",
      "15000/15000 [==============================] - 87s 6ms/sample - loss: 0.0358 - accuracy: 0.9919\n",
      "Epoch 8/20\n",
      "15000/15000 [==============================] - 87s 6ms/sample - loss: 0.0331 - accuracy: 0.9935\n",
      "Epoch 9/20\n",
      "15000/15000 [==============================] - 87s 6ms/sample - loss: 0.0230 - accuracy: 0.9939\n",
      "Epoch 10/20\n",
      "15000/15000 [==============================] - 87s 6ms/sample - loss: 0.0260 - accuracy: 0.9941\n",
      "Epoch 11/20\n",
      "15000/15000 [==============================] - 87s 6ms/sample - loss: 0.0273 - accuracy: 0.9947\n",
      "Epoch 12/20\n",
      "15000/15000 [==============================] - 87s 6ms/sample - loss: 0.0257 - accuracy: 0.9948\n",
      "Epoch 13/20\n",
      "15000/15000 [==============================] - 87s 6ms/sample - loss: 0.0246 - accuracy: 0.9952\n",
      "Epoch 14/20\n",
      "15000/15000 [==============================] - 87s 6ms/sample - loss: 0.0389 - accuracy: 0.9931\n",
      "Epoch 15/20\n",
      "15000/15000 [==============================] - 87s 6ms/sample - loss: 0.0241 - accuracy: 0.9959\n",
      "Epoch 16/20\n",
      "15000/15000 [==============================] - 87s 6ms/sample - loss: 0.0244 - accuracy: 0.9954\n",
      "Epoch 17/20\n",
      "15000/15000 [==============================] - 87s 6ms/sample - loss: 0.0257 - accuracy: 0.9957\n",
      "Epoch 18/20\n",
      "15000/15000 [==============================] - 87s 6ms/sample - loss: 0.0257 - accuracy: 0.9961\n",
      "Epoch 19/20\n",
      "15000/15000 [==============================] - 87s 6ms/sample - loss: 0.0162 - accuracy: 0.9970\n",
      "Epoch 20/20\n",
      "15000/15000 [==============================] - 87s 6ms/sample - loss: 0.0212 - accuracy: 0.9963\n"
     ]
    },
    {
     "data": {
      "text/plain": [
       "<tensorflow.python.keras.callbacks.History at 0x1e6e3bbf358>"
      ]
     },
     "execution_count": 16,
     "metadata": {},
     "output_type": "execute_result"
    }
   ],
   "source": [
    "resnet=tensorflow.keras.applications.ResNet50(include_top=False,weights='imagenet',input_shape=train_data.shape[1:])\n",
    "# Freeze the layers except the last 10 layers\n",
    "for layer in resnet.layers[:-10]:\n",
    "    layer.trainable = False\n",
    "for layer in resnet.layers[-10:]:\n",
    "    layer.trainable=True\n",
    "model=keras.Sequential([\n",
    "    resnet,\n",
    "    keras.layers.AveragePooling2D(2,2),\n",
    "    keras.layers.Flatten(),\n",
    "    keras.layers.Dropout(0.5),\n",
    "    keras.layers.Dense(1,activation='sigmoid')\n",
    "    ])\n",
    "model.compile(optimizer='adam',loss='binary_crossentropy',metrics=['accuracy'])\n",
    "model.fit(train_data,train_ans,epochs=20)\n"
   ]
  },
  {
   "cell_type": "code",
   "execution_count": 17,
   "metadata": {},
   "outputs": [
    {
     "name": "stdout",
     "output_type": "stream",
     "text": [
      "9941/9941 [==============================] - 43s 4ms/sample - loss: 0.3589 - accuracy: 0.9811\n"
     ]
    },
    {
     "data": {
      "text/plain": [
       "[0.35890410836969644, 0.9810884]"
      ]
     },
     "execution_count": 17,
     "metadata": {},
     "output_type": "execute_result"
    }
   ],
   "source": [
    "model.evaluate(test_data,test_ans)"
   ]
  },
  {
   "cell_type": "code",
   "execution_count": null,
   "metadata": {},
   "outputs": [],
   "source": []
  }
 ],
 "metadata": {
  "kernelspec": {
   "display_name": "Python 3",
   "language": "python",
   "name": "python3"
  },
  "language_info": {
   "codemirror_mode": {
    "name": "ipython",
    "version": 3
   },
   "file_extension": ".py",
   "mimetype": "text/x-python",
   "name": "python",
   "nbconvert_exporter": "python",
   "pygments_lexer": "ipython3",
   "version": "3.7.0"
  }
 },
 "nbformat": 4,
 "nbformat_minor": 4
}
