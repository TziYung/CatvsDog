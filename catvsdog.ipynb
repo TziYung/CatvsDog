{
 "cells": [
  {
   "cell_type": "code",
   "execution_count": 1,
   "metadata": {},
   "outputs": [],
   "source": [
    "import tensorflow\n",
    "from tensorflow import keras\n",
    "from matplotlib import pyplot\n",
    "import os\n",
    "import cv2\n",
    "import random\n",
    "import pickle\n",
    "import numpy"
   ]
  },
  {
   "cell_type": "code",
   "execution_count": 2,
   "metadata": {},
   "outputs": [],
   "source": [
    "categories=['Cat','Dog']\n",
    "traindata=[]\n",
    "def create_train_data(Data):\n",
    "    Dir=\"D:\\\\PetImages\"\n",
    "    categories=['Cat','Dog']\n",
    "    for a in categories:\n",
    "        Path=os.path.join(Dir,a)\n",
    "        classnum=categories.index(a)\n",
    "        for b in os.listdir(Path):\n",
    "            try:\n",
    "                img=cv2.imread(os.path.join(Path,b))\n",
    "                img=cv2.resize(img,(224,224))\n",
    "                Data.append([img,classnum])\n",
    "            except:\n",
    "                pass"
   ]
  },
  {
   "cell_type": "code",
   "execution_count": 3,
   "metadata": {},
   "outputs": [],
   "source": [
    "create_train_data(traindata)\n",
    "random.shuffle(traindata)\n",
    "with open('D:\\\\catvsdog.pickle','wb') as e:\n",
    "    pickle.dump(traindata,e)"
   ]
  },
  {
   "cell_type": "code",
   "execution_count": 2,
   "metadata": {},
   "outputs": [],
   "source": [
    "with open('D:\\\\catvsdog.pickle','rb') as e:\n",
    "    traindata=pickle.load(e)\n",
    "x=[]\n",
    "y=[]\n",
    "for a,b in traindata:\n",
    "    x.append(a)\n",
    "    y.append(b)\n",
    "y=numpy.array(y)\n",
    "x=numpy.array(x).reshape(-1,224,224,3)/255\n",
    "testx=x[:1000]\n",
    "testy=y[:1000]\n",
    "x=x[1000:]\n",
    "y=y[1000:]"
   ]
  },
  {
   "cell_type": "code",
   "execution_count": 3,
   "metadata": {
    "scrolled": true
   },
   "outputs": [
    {
     "name": "stdout",
     "output_type": "stream",
     "text": [
      "Train on 23941 samples\n",
      "Epoch 1/20\n",
      "23941/23941 [==============================] - 106s 4ms/sample - loss: 0.9906 - accuracy: 0.5853\n",
      "Epoch 2/20\n",
      "23941/23941 [==============================] - 104s 4ms/sample - loss: 0.6027 - accuracy: 0.6835\n",
      "Epoch 3/20\n",
      "23941/23941 [==============================] - 101s 4ms/sample - loss: 0.5290 - accuracy: 0.7432\n",
      "Epoch 4/20\n",
      "23941/23941 [==============================] - 103s 4ms/sample - loss: 0.4569 - accuracy: 0.7924\n",
      "Epoch 5/20\n",
      "23941/23941 [==============================] - 103s 4ms/sample - loss: 0.3788 - accuracy: 0.8364\n",
      "Epoch 6/20\n",
      "23941/23941 [==============================] - 105s 4ms/sample - loss: 0.3024 - accuracy: 0.8741\n",
      "Epoch 7/20\n",
      "23941/23941 [==============================] - 103s 4ms/sample - loss: 0.2573 - accuracy: 0.8973\n",
      "Epoch 8/20\n",
      "23941/23941 [==============================] - 104s 4ms/sample - loss: 0.2173 - accuracy: 0.9123\n",
      "Epoch 9/20\n",
      "23941/23941 [==============================] - 101s 4ms/sample - loss: 0.1793 - accuracy: 0.9294\n",
      "Epoch 10/20\n",
      "23941/23941 [==============================] - 104s 4ms/sample - loss: 0.1626 - accuracy: 0.9376\n",
      "Epoch 11/20\n",
      "23941/23941 [==============================] - 104s 4ms/sample - loss: 0.1438 - accuracy: 0.9435\n",
      "Epoch 12/20\n",
      "23941/23941 [==============================] - 104s 4ms/sample - loss: 0.1429 - accuracy: 0.9439\n",
      "Epoch 13/20\n",
      "23941/23941 [==============================] - 106s 4ms/sample - loss: 0.1195 - accuracy: 0.9542\n",
      "Epoch 14/20\n",
      "23941/23941 [==============================] - 106s 4ms/sample - loss: 0.1091 - accuracy: 0.9561\n",
      "Epoch 15/20\n",
      "23941/23941 [==============================] - 102s 4ms/sample - loss: 0.1088 - accuracy: 0.9583\n",
      "Epoch 16/20\n",
      "23941/23941 [==============================] - 104s 4ms/sample - loss: 0.0924 - accuracy: 0.9630\n",
      "Epoch 17/20\n",
      "23941/23941 [==============================] - 103s 4ms/sample - loss: 0.1438 - accuracy: 0.9459\n",
      "Epoch 18/20\n",
      "23941/23941 [==============================] - 102s 4ms/sample - loss: 0.0850 - accuracy: 0.9669\n",
      "Epoch 19/20\n",
      "23941/23941 [==============================] - 105s 4ms/sample - loss: 0.0754 - accuracy: 0.9708\n",
      "Epoch 20/20\n",
      "23941/23941 [==============================] - 103s 4ms/sample - loss: 0.0763 - accuracy: 0.9711\n",
      "1000/1000 [==============================] - 5s 5ms/sample - loss: 0.2549 - accuracy: 0.9190\n"
     ]
    },
    {
     "data": {
      "text/plain": [
       "[0.25486698126792906, 0.919]"
      ]
     },
     "execution_count": 3,
     "metadata": {},
     "output_type": "execute_result"
    }
   ],
   "source": [
    "model=keras.Sequential([\n",
    "\n",
    "    \n",
    "    \n",
    "    keras.layers.Conv2D(16,(3,3),use_bias=False,input_shape=(x.shape[1:])),\n",
    "    keras.layers.BatchNormalization(),\n",
    "    keras.layers.Activation('relu'),\n",
    "    \n",
    "    keras.layers.Conv2D(16,(3,3),use_bias=False),\n",
    "    keras.layers.BatchNormalization(),\n",
    "    keras.layers.Activation('relu'),\n",
    "    \n",
    "    keras.layers.MaxPooling2D(2,2),\n",
    "                                    \n",
    "    keras.layers.Conv2D(32,(3,3),use_bias=False),\n",
    "    keras.layers.BatchNormalization(),\n",
    "    keras.layers.Activation('relu'),\n",
    "                                    \n",
    "    keras.layers.Conv2D(32,(3,3),use_bias=False),\n",
    "    keras.layers.BatchNormalization(),\n",
    "    keras.layers.Activation('relu'),\n",
    "    \n",
    "    keras.layers.MaxPooling2D(2,2),\n",
    "                                    \n",
    "    keras.layers.Conv2D(64,(3,3),use_bias=False),\n",
    "    keras.layers.BatchNormalization(),\n",
    "    keras.layers.Activation('relu'),\n",
    "                                    \n",
    "    keras.layers.Conv2D(64,(3,3),use_bias=False),\n",
    "    keras.layers.BatchNormalization(),\n",
    "    keras.layers.Activation('relu'),\n",
    "    \n",
    "    keras.layers.MaxPooling2D(2,2),\n",
    "    \n",
    "    keras.layers.Conv2D(128,(3,3),use_bias=False),\n",
    "    keras.layers.BatchNormalization(),\n",
    "    keras.layers.Activation('relu'),\n",
    "                                    \n",
    "    keras.layers.Conv2D(128,(3,3),use_bias=False),\n",
    "    keras.layers.BatchNormalization(),\n",
    "    keras.layers.Activation('relu'),\n",
    "    \n",
    "    keras.layers.Conv2D(128,(3,3),use_bias=False),\n",
    "    keras.layers.BatchNormalization(),\n",
    "    keras.layers.Activation('relu'),\n",
    "    \n",
    "    keras.layers.MaxPooling2D(2,2),                       \n",
    "                                    \n",
    "    keras.layers.Flatten(),\n",
    "    keras.layers.Dropout(0.5),\n",
    "    keras.layers.Dense(2048,activation='relu'),\n",
    "    keras.layers.Dropout(0.5),\n",
    "    keras.layers.Dense(2048,activation='relu'),\n",
    "    keras.layers.Dropout(0.5),\n",
    "    keras.layers.Dense(1,activation='sigmoid')\n",
    "    ])\n",
    "model.compile(optimizer='adam',loss='binary_crossentropy',metrics=['accuracy'])\n",
    "model.fit(x,y,epochs=20)\n",
    "model.evaluate(testx,testy)\n",
    "#model.summary()"
   ]
  }
 ],
 "metadata": {
  "kernelspec": {
   "display_name": "Python 3",
   "language": "python",
   "name": "python3"
  },
  "language_info": {
   "codemirror_mode": {
    "name": "ipython",
    "version": 3
   },
   "file_extension": ".py",
   "mimetype": "text/x-python",
   "name": "python",
   "nbconvert_exporter": "python",
   "pygments_lexer": "ipython3",
   "version": "3.7.0"
  }
 },
 "nbformat": 4,
 "nbformat_minor": 4
}
