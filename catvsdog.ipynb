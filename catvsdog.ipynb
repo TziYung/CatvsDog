{
 "cells": [
  {
   "cell_type": "code",
   "execution_count": 1,
   "metadata": {},
   "outputs": [],
   "source": [
    "import tensorflow\n",
    "from tensorflow import keras\n",
    "from matplotlib import pyplot\n",
    "import os\n",
    "import cv2\n",
    "import random\n",
    "import pickle\n",
    "import numpy\n",
    "import multiprocessing"
   ]
  },
  {
   "cell_type": "code",
   "execution_count": 2,
   "metadata": {},
   "outputs": [],
   "source": [
    "def read_pic(kind):\n",
    "    img_list=[]\n",
    "    categories=['Cat','Dog']\n",
    "    Path=os.path.join(\"D:\\\\PetImages\",kind)\n",
    "    classnum=categories.index(kind)\n",
    "    for b in os.listdir(Path):\n",
    "        try:\n",
    "            img=cv2.imread(os.path.join(Path,b))\n",
    "            img=cv2.resize(img,(224,224))\n",
    "            img_list.append((img,classnum))\n",
    "        except:\n",
    "            pass\n",
    "    with open(f'D:\\\\{kind}.pickle','wb') as e:\n",
    "        pickle.dump(img_list,e)"
   ]
  },
  {
   "cell_type": "code",
   "execution_count": 3,
   "metadata": {},
   "outputs": [],
   "source": [
    "if __name__ == '__main__':\n",
    "    cat=multiprocessing.Process(target=read_pic,args=('Cat',),daemon=True)\n",
    "    dog=multiprocessing.Process(target=read_pic,args=('Dog',),daemon=True)\n",
    "    cat.start()\n",
    "    dog.start()\n",
    "    cat.join()\n",
    "    dog.join()"
   ]
  },
  {
   "cell_type": "code",
   "execution_count": 2,
   "metadata": {},
   "outputs": [],
   "source": [
    "with open('D:\\\\cat.pickle','rb') as e:\n",
    "    cat=pickle.load(e)\n",
    "with open('D:\\\\dog.pickle','rb') as e:\n",
    "    dog=pickle.load(e)\n",
    "raw_data=cat[2000:]+dog[2000:]\n",
    "random.shuffle(raw_data)\n",
    "train_data,train_ans,test_data,test_ans=[],[],[],[]\n",
    "for a,b in raw_data:\n",
    "    train_data.append(a)\n",
    "    train_ans.append(b)\n",
    "raw_data=[]\n",
    "train_data=numpy.array(train_data)\n",
    "train_ans=numpy.array(train_ans)\n",
    "\n",
    "raw_data=cat[:2000]+dog[:2000]\n",
    "random.shuffle(raw_data)\n",
    "for a,b in raw_data:\n",
    "    test_data.append(a)\n",
    "    test_ans.append(b)\n",
    "raw_data=[]\n",
    "test_data=numpy.array(test_data)\n",
    "train_data=numpy.array(train_data)\n",
    "test_ans=numpy.array(test_ans)\n",
    "train_ans=numpy.array(train_ans)\n",
    "cat,dog,test_cat,test_dog=[],[],[],[]"
   ]
  },
  {
   "cell_type": "code",
   "execution_count": 3,
   "metadata": {},
   "outputs": [],
   "source": [
    "import tensorflow as tf\n",
    "gpus= tf.config.experimental.list_physical_devices('GPU')\n",
    "tf.config.experimental.set_memory_growth(gpus[0], True)\n",
    "# print(gpus)"
   ]
  },
  {
   "cell_type": "markdown",
   "metadata": {},
   "source": [
    "# model"
   ]
  },
  {
   "cell_type": "code",
   "execution_count": 8,
   "metadata": {},
   "outputs": [
    {
     "name": "stdout",
     "output_type": "stream",
     "text": [
      "Train on 20946 samples\n",
      "Epoch 1/40\n",
      "20946/20946 [==============================] - 506s 24ms/sample - loss: 1.0285 - accuracy: 0.5301\n",
      "Epoch 2/40\n",
      "20946/20946 [==============================] - 498s 24ms/sample - loss: 0.7356 - accuracy: 0.5834\n",
      "Epoch 3/40\n",
      "20946/20946 [==============================] - 498s 24ms/sample - loss: 0.6456 - accuracy: 0.6334\n",
      "Epoch 4/40\n",
      "20946/20946 [==============================] - 499s 24ms/sample - loss: 0.5838 - accuracy: 0.6875\n",
      "Epoch 5/40\n",
      "20946/20946 [==============================] - 499s 24ms/sample - loss: 0.5442 - accuracy: 0.7272\n",
      "Epoch 6/40\n",
      "20946/20946 [==============================] - 499s 24ms/sample - loss: 0.4961 - accuracy: 0.7587\n",
      "Epoch 7/40\n",
      "20946/20946 [==============================] - 499s 24ms/sample - loss: 0.4366 - accuracy: 0.7992\n",
      "Epoch 8/40\n",
      "20946/20946 [==============================] - 499s 24ms/sample - loss: 0.3708 - accuracy: 0.8362\n",
      "Epoch 9/40\n",
      "20946/20946 [==============================] - 499s 24ms/sample - loss: 0.3001 - accuracy: 0.8719\n",
      "Epoch 10/40\n",
      "20946/20946 [==============================] - 499s 24ms/sample - loss: 0.2438 - accuracy: 0.8977\n",
      "Epoch 11/40\n",
      "20946/20946 [==============================] - 499s 24ms/sample - loss: 0.2141 - accuracy: 0.9096\n",
      "Epoch 12/40\n",
      "20946/20946 [==============================] - 499s 24ms/sample - loss: 0.1883 - accuracy: 0.9215\n",
      "Epoch 13/40\n",
      "20946/20946 [==============================] - 499s 24ms/sample - loss: 0.1652 - accuracy: 0.9310\n",
      "Epoch 14/40\n",
      "20946/20946 [==============================] - 499s 24ms/sample - loss: 0.1498 - accuracy: 0.9376\n",
      "Epoch 15/40\n",
      "20946/20946 [==============================] - 499s 24ms/sample - loss: 0.1352 - accuracy: 0.9447\n",
      "Epoch 16/40\n",
      "20946/20946 [==============================] - 499s 24ms/sample - loss: 0.1256 - accuracy: 0.9498\n",
      "Epoch 17/40\n",
      "20946/20946 [==============================] - 499s 24ms/sample - loss: 0.1154 - accuracy: 0.9526\n",
      "Epoch 18/40\n",
      "20946/20946 [==============================] - 499s 24ms/sample - loss: 0.1008 - accuracy: 0.9603\n",
      "Epoch 19/40\n",
      "20946/20946 [==============================] - 499s 24ms/sample - loss: 0.0939 - accuracy: 0.9628\n",
      "Epoch 20/40\n",
      "20946/20946 [==============================] - 499s 24ms/sample - loss: 0.0886 - accuracy: 0.9663\n",
      "Epoch 21/40\n",
      "20946/20946 [==============================] - 499s 24ms/sample - loss: 0.0792 - accuracy: 0.9682\n",
      "Epoch 22/40\n",
      "20946/20946 [==============================] - 498s 24ms/sample - loss: 0.0817 - accuracy: 0.9683\n",
      "Epoch 23/40\n",
      "20946/20946 [==============================] - 498s 24ms/sample - loss: 0.0703 - accuracy: 0.9732\n",
      "Epoch 24/40\n",
      "20946/20946 [==============================] - 498s 24ms/sample - loss: 0.0629 - accuracy: 0.9751\n",
      "Epoch 25/40\n",
      "20946/20946 [==============================] - 498s 24ms/sample - loss: 0.0564 - accuracy: 0.9785\n",
      "Epoch 26/40\n",
      "20946/20946 [==============================] - 498s 24ms/sample - loss: 0.0525 - accuracy: 0.9790\n",
      "Epoch 27/40\n",
      "20946/20946 [==============================] - 498s 24ms/sample - loss: 0.0487 - accuracy: 0.9808\n",
      "Epoch 28/40\n",
      "20946/20946 [==============================] - 498s 24ms/sample - loss: 0.0459 - accuracy: 0.9825\n",
      "Epoch 29/40\n",
      "20946/20946 [==============================] - 499s 24ms/sample - loss: 0.0371 - accuracy: 0.9853\n",
      "Epoch 30/40\n",
      "20946/20946 [==============================] - 498s 24ms/sample - loss: 0.0419 - accuracy: 0.9841\n",
      "Epoch 31/40\n",
      "20946/20946 [==============================] - 498s 24ms/sample - loss: 0.0398 - accuracy: 0.9864\n",
      "Epoch 32/40\n",
      "20946/20946 [==============================] - 498s 24ms/sample - loss: 0.0293 - accuracy: 0.9899\n",
      "Epoch 33/40\n",
      "20946/20946 [==============================] - 498s 24ms/sample - loss: 0.0325 - accuracy: 0.9880\n",
      "Epoch 34/40\n",
      "20946/20946 [==============================] - 498s 24ms/sample - loss: 0.0279 - accuracy: 0.9897\n",
      "Epoch 35/40\n",
      "20946/20946 [==============================] - 498s 24ms/sample - loss: 0.0290 - accuracy: 0.9901\n",
      "Epoch 36/40\n",
      "20946/20946 [==============================] - 498s 24ms/sample - loss: 0.0239 - accuracy: 0.9915\n",
      "Epoch 37/40\n",
      "20946/20946 [==============================] - 502s 24ms/sample - loss: 0.0311 - accuracy: 0.9888\n",
      "Epoch 38/40\n",
      "20946/20946 [==============================] - 501s 24ms/sample - loss: 0.0224 - accuracy: 0.9914\n",
      "Epoch 39/40\n",
      "20946/20946 [==============================] - 502s 24ms/sample - loss: 0.0355 - accuracy: 0.9882\n",
      "Epoch 40/40\n",
      "20946/20946 [==============================] - 500s 24ms/sample - loss: 0.0221 - accuracy: 0.9916\n"
     ]
    },
    {
     "data": {
      "text/plain": [
       "<tensorflow.python.keras.callbacks.History at 0x237e0ad80b8>"
      ]
     },
     "execution_count": 8,
     "metadata": {},
     "output_type": "execute_result"
    }
   ],
   "source": [
    "import time\n",
    "time.sleep(30)\n",
    "img=keras.Input((224,224,3))\n",
    "\n",
    "x=keras.layers.Conv2D(32,(3,3))(img)\n",
    "x=keras.layers.BatchNormalization()(x)\n",
    "x=keras.layers.Activation('relu')(x)\n",
    "\n",
    "\n",
    "x=keras.layers.MaxPooling2D(3,3)(x)\n",
    "#b1-1\n",
    "x=keras.layers.Conv2D(64,(3,3))(x)\n",
    "x=keras.layers.BatchNormalization()(x)\n",
    "x=keras.layers.Activation('relu')(x)\n",
    "\n",
    "x=keras.layers.Conv2D(64,(3,3),padding='same')(x)\n",
    "x=keras.layers.BatchNormalization()(x)\n",
    "block=keras.layers.Activation('relu')(x)\n",
    "#b1-2\n",
    "\n",
    "x=keras.layers.Conv2D(64,(3,3),padding='same')(block)\n",
    "x=keras.layers.BatchNormalization()(x)\n",
    "x=keras.layers.Activation('relu')(x)\n",
    "\n",
    "x=keras.layers.Conv2D(64,(3,3),padding='same')(x)\n",
    "x=keras.layers.BatchNormalization()(x)\n",
    "x=keras.layers.Activation('relu')(x)\n",
    "\n",
    "block=keras.layers.add([x,block])\n",
    "\n",
    "#b1-3\n",
    "x=keras.layers.Conv2D(64,(3,3),padding='same')(block)\n",
    "x=keras.layers.BatchNormalization()(x)\n",
    "x=keras.layers.Activation('relu')(x)\n",
    "\n",
    "x=keras.layers.Conv2D(64,(3,3),padding='same')(x)\n",
    "x=keras.layers.BatchNormalization()(x)\n",
    "x=keras.layers.Activation('relu')(x)\n",
    "\n",
    "block=keras.layers.add([x,block])\n",
    "\n",
    "# pooling\n",
    "block=keras.layers.AveragePooling2D(2,2)(block)\n",
    "# b2-1\n",
    "x=keras.layers.Conv2D(128,(3,3))(block)\n",
    "x=keras.layers.BatchNormalization()(x)\n",
    "x=keras.layers.Activation('relu')(x)\n",
    "\n",
    "x=keras.layers.Conv2D(128,(3,3),padding='same')(x)\n",
    "x=keras.layers.BatchNormalization()(x)\n",
    "block=keras.layers.Activation('relu')(x)\n",
    "\n",
    "# b2-2\n",
    "x=keras.layers.Conv2D(128,(3,3),padding='same')(block)\n",
    "x=keras.layers.BatchNormalization()(x)\n",
    "x=keras.layers.Activation('relu')(x)\n",
    "\n",
    "\n",
    "x=keras.layers.Conv2D(128,(3,3),padding='same')(x)\n",
    "x=keras.layers.BatchNormalization()(x)\n",
    "x=keras.layers.Activation('relu')(x)\n",
    "\n",
    "block=keras.layers.add([x,block])\n",
    "# b2-3\n",
    "x=keras.layers.Conv2D(128,(3,3),padding='same')(block)\n",
    "x=keras.layers.BatchNormalization()(x)\n",
    "x=keras.layers.Activation('relu')(x)\n",
    "\n",
    "\n",
    "x=keras.layers.Conv2D(128,(3,3),padding='same')(x)\n",
    "x=keras.layers.BatchNormalization()(x)\n",
    "x=keras.layers.Activation('relu')(x)\n",
    "\n",
    "block=keras.layers.add([x,block])\n",
    "\n",
    "# pooling\n",
    "block=keras.layers.AveragePooling2D(2,2)(block)\n",
    "\n",
    "# b3-1\n",
    "x=keras.layers.Conv2D(256,(3,3))(block)\n",
    "x=keras.layers.BatchNormalization()(x)\n",
    "x=keras.layers.Activation('relu')(x)\n",
    "\n",
    "x=keras.layers.Conv2D(256,(3,3),padding='same')(x)\n",
    "x=keras.layers.BatchNormalization()(x)\n",
    "block=keras.layers.Activation('relu')(x)\n",
    "\n",
    "# b3-2\n",
    "x=keras.layers.Conv2D(256,(3,3),padding='same')(block)\n",
    "x=keras.layers.BatchNormalization()(x)\n",
    "x=keras.layers.Activation('relu')(x)\n",
    "\n",
    "\n",
    "x=keras.layers.Conv2D(256,(3,3),padding='same')(x)\n",
    "x=keras.layers.BatchNormalization()(x)\n",
    "x=keras.layers.Activation('relu')(x)\n",
    "\n",
    "block=keras.layers.add([x,block])\n",
    "# b3-3\n",
    "x=keras.layers.Conv2D(256,(3,3),padding='same')(block)\n",
    "x=keras.layers.BatchNormalization()(x)\n",
    "x=keras.layers.Activation('relu')(x)\n",
    "\n",
    "\n",
    "x=keras.layers.Conv2D(256,(3,3),padding='same')(x)\n",
    "x=keras.layers.BatchNormalization()(x)\n",
    "x=keras.layers.Activation('relu')(x)\n",
    "\n",
    "block=keras.layers.add([x,block])\n",
    "\n",
    "\n",
    "\n",
    "# b4-1\n",
    "x=keras.layers.Conv2D(256,(3,3))(block)\n",
    "x=keras.layers.BatchNormalization()(x)\n",
    "x=keras.layers.Activation('relu')(x)\n",
    "\n",
    "x=keras.layers.Conv2D(256,(3,3),padding='same')(x)\n",
    "x=keras.layers.BatchNormalization()(x)\n",
    "block=keras.layers.Activation('relu')(x)\n",
    "\n",
    "# b4-2\n",
    "x=keras.layers.Conv2D(256,(3,3),padding='same')(block)\n",
    "x=keras.layers.BatchNormalization()(x)\n",
    "x=keras.layers.Activation('relu')(x)\n",
    "\n",
    "\n",
    "x=keras.layers.Conv2D(256,(3,3),padding='same')(x)\n",
    "x=keras.layers.BatchNormalization()(x)\n",
    "x=keras.layers.Activation('relu')(x)\n",
    "\n",
    "block=keras.layers.add([x,block])\n",
    "# b4-3\n",
    "x=keras.layers.Conv2D(256,(3,3),padding='same')(block)\n",
    "x=keras.layers.BatchNormalization()(x)\n",
    "x=keras.layers.Activation('relu')(x)\n",
    "\n",
    "\n",
    "x=keras.layers.Conv2D(256,(3,3),padding='same')(x)\n",
    "x=keras.layers.BatchNormalization()(x)\n",
    "x=keras.layers.Activation('relu')(x)\n",
    "\n",
    "block=keras.layers.add([x,block])\n",
    "\n",
    "# pooling\n",
    "x=keras.layers.AveragePooling2D(2,2)(block)\n",
    "x=keras.layers.Flatten()(x)\n",
    "x=keras.layers.Dense(1)(x)\n",
    "x=keras.layers.Activation('sigmoid')(x)\n",
    "\n",
    "\n",
    "model=keras.Model(inputs=img,outputs=x)\n",
    "model.compile(optimizer='adam',loss='binary_crossentropy',metrics=['accuracy'])\n",
    "model.fit(train_data,train_ans,epochs=40)\n",
    "# model.summary()\n"
   ]
  },
  {
   "cell_type": "code",
   "execution_count": 9,
   "metadata": {},
   "outputs": [
    {
     "name": "stdout",
     "output_type": "stream",
     "text": [
      "4000/4000 [==============================] - 14s 3ms/sample - loss: 0.2074 - accuracy: 0.9457\n"
     ]
    },
    {
     "data": {
      "text/plain": [
       "[0.20741199843771757, 0.94575]"
      ]
     },
     "execution_count": 9,
     "metadata": {},
     "output_type": "execute_result"
    }
   ],
   "source": [
    "model.evaluate(test_data,test_ans)"
   ]
  },
  {
   "cell_type": "markdown",
   "metadata": {},
   "source": [
    "# resnet 50"
   ]
  },
  {
   "cell_type": "code",
   "execution_count": 10,
   "metadata": {},
   "outputs": [
    {
     "name": "stdout",
     "output_type": "stream",
     "text": [
      "Train on 20946 samples\n",
      "Epoch 1/20\n",
      "20946/20946 [==============================] - 122s 6ms/sample - loss: 0.1867 - accuracy: 0.9597\n",
      "Epoch 2/20\n",
      "20946/20946 [==============================] - 119s 6ms/sample - loss: 0.1467 - accuracy: 0.9743\n",
      "Epoch 3/20\n",
      "20946/20946 [==============================] - 117s 6ms/sample - loss: 0.1725 - accuracy: 0.9734\n",
      "Epoch 4/20\n",
      "20946/20946 [==============================] - 117s 6ms/sample - loss: 0.1756 - accuracy: 0.9787\n",
      "Epoch 5/20\n",
      "20946/20946 [==============================] - 117s 6ms/sample - loss: 0.1313 - accuracy: 0.9824\n",
      "Epoch 6/20\n",
      "20946/20946 [==============================] - 117s 6ms/sample - loss: 0.1370 - accuracy: 0.9819\n",
      "Epoch 7/20\n",
      "20946/20946 [==============================] - 117s 6ms/sample - loss: 0.1272 - accuracy: 0.9841\n",
      "Epoch 8/20\n",
      "20946/20946 [==============================] - 117s 6ms/sample - loss: 0.1309 - accuracy: 0.9843\n",
      "Epoch 9/20\n",
      "20946/20946 [==============================] - 117s 6ms/sample - loss: 0.1588 - accuracy: 0.9815\n",
      "Epoch 10/20\n",
      "20946/20946 [==============================] - 117s 6ms/sample - loss: 0.1458 - accuracy: 0.9847\n",
      "Epoch 11/20\n",
      "20946/20946 [==============================] - 117s 6ms/sample - loss: 0.1476 - accuracy: 0.9838\n",
      "Epoch 12/20\n",
      "20946/20946 [==============================] - 117s 6ms/sample - loss: 0.1223 - accuracy: 0.9862\n",
      "Epoch 13/20\n",
      "20946/20946 [==============================] - 117s 6ms/sample - loss: 0.1195 - accuracy: 0.9873\n",
      "Epoch 14/20\n",
      "20946/20946 [==============================] - 119s 6ms/sample - loss: 0.1371 - accuracy: 0.9854\n",
      "Epoch 15/20\n",
      "20946/20946 [==============================] - 118s 6ms/sample - loss: 0.1178 - accuracy: 0.9873\n",
      "Epoch 16/20\n",
      "20946/20946 [==============================] - 118s 6ms/sample - loss: 0.1434 - accuracy: 0.9870\n",
      "Epoch 17/20\n",
      "20946/20946 [==============================] - 118s 6ms/sample - loss: 0.1522 - accuracy: 0.9874\n",
      "Epoch 18/20\n",
      "20946/20946 [==============================] - 118s 6ms/sample - loss: 0.1453 - accuracy: 0.9876\n",
      "Epoch 19/20\n",
      "20946/20946 [==============================] - 118s 6ms/sample - loss: 0.1370 - accuracy: 0.9876\n",
      "Epoch 20/20\n",
      "20946/20946 [==============================] - 118s 6ms/sample - loss: 0.1268 - accuracy: 0.9886\n"
     ]
    },
    {
     "data": {
      "text/plain": [
       "<tensorflow.python.keras.callbacks.History at 0x237e28a93c8>"
      ]
     },
     "execution_count": 10,
     "metadata": {},
     "output_type": "execute_result"
    }
   ],
   "source": [
    "time.sleep(30)\n",
    "resnet=tensorflow.keras.applications.ResNet50(include_top=False,weights='imagenet',input_shape=train_data.shape[1:])\n",
    "for layer in resnet.layers:\n",
    "    layer.trainable = False\n",
    "\n",
    "model=keras.Sequential([\n",
    "    resnet,\n",
    "    keras.layers.AveragePooling2D(2,2),\n",
    "    keras.layers.Flatten(),\n",
    "    keras.layers.Dropout(0.5),\n",
    "    keras.layers.Dense(1,activation='sigmoid')\n",
    "    ])\n",
    "model.compile(optimizer='adam',loss='binary_crossentropy',metrics=['accuracy'])\n",
    "model.fit(train_data,train_ans,epochs=20)\n"
   ]
  },
  {
   "cell_type": "code",
   "execution_count": 11,
   "metadata": {},
   "outputs": [
    {
     "name": "stdout",
     "output_type": "stream",
     "text": [
      "4000/4000 [==============================] - 19s 5ms/sample - loss: 0.6096 - accuracy: 0.9765\n"
     ]
    },
    {
     "data": {
      "text/plain": [
       "[0.6095955040097086, 0.9765]"
      ]
     },
     "execution_count": 11,
     "metadata": {},
     "output_type": "execute_result"
    }
   ],
   "source": [
    "model.evaluate(test_data,test_ans)"
   ]
  },
  {
   "cell_type": "markdown",
   "metadata": {},
   "source": [
    "# resnet 50 with last 10 layers trainable"
   ]
  },
  {
   "cell_type": "code",
   "execution_count": 12,
   "metadata": {},
   "outputs": [
    {
     "name": "stdout",
     "output_type": "stream",
     "text": [
      "Train on 20946 samples\n",
      "Epoch 1/20\n",
      "20946/20946 [==============================] - 128s 6ms/sample - loss: 0.1177 - accuracy: 0.9660\n",
      "Epoch 2/20\n",
      "20946/20946 [==============================] - 127s 6ms/sample - loss: 0.0668 - accuracy: 0.9801\n",
      "Epoch 3/20\n",
      "20946/20946 [==============================] - 127s 6ms/sample - loss: 0.0477 - accuracy: 0.9867\n",
      "Epoch 4/20\n",
      "20946/20946 [==============================] - 127s 6ms/sample - loss: 0.0414 - accuracy: 0.9899\n",
      "Epoch 5/20\n",
      "20946/20946 [==============================] - 127s 6ms/sample - loss: 0.0414 - accuracy: 0.9897\n",
      "Epoch 6/20\n",
      "20946/20946 [==============================] - 127s 6ms/sample - loss: 0.0422 - accuracy: 0.9908\n",
      "Epoch 7/20\n",
      "20946/20946 [==============================] - 127s 6ms/sample - loss: 0.0400 - accuracy: 0.9907\n",
      "Epoch 8/20\n",
      "20946/20946 [==============================] - 127s 6ms/sample - loss: 0.0392 - accuracy: 0.9924\n",
      "Epoch 9/20\n",
      "20946/20946 [==============================] - 127s 6ms/sample - loss: 0.0344 - accuracy: 0.9932\n",
      "Epoch 10/20\n",
      "20946/20946 [==============================] - 127s 6ms/sample - loss: 0.0389 - accuracy: 0.9931\n",
      "Epoch 11/20\n",
      "20946/20946 [==============================] - 127s 6ms/sample - loss: 0.0350 - accuracy: 0.9934\n",
      "Epoch 12/20\n",
      "20946/20946 [==============================] - 127s 6ms/sample - loss: 0.0300 - accuracy: 0.9950\n",
      "Epoch 13/20\n",
      "20946/20946 [==============================] - 127s 6ms/sample - loss: 0.0336 - accuracy: 0.9940\n",
      "Epoch 14/20\n",
      "20946/20946 [==============================] - 127s 6ms/sample - loss: 0.0290 - accuracy: 0.9956\n",
      "Epoch 15/20\n",
      "20946/20946 [==============================] - 127s 6ms/sample - loss: 0.0211 - accuracy: 0.9964\n",
      "Epoch 16/20\n",
      "20946/20946 [==============================] - 126s 6ms/sample - loss: 0.0232 - accuracy: 0.9959\n",
      "Epoch 17/20\n",
      "20946/20946 [==============================] - 127s 6ms/sample - loss: 0.0264 - accuracy: 0.9955\n",
      "Epoch 18/20\n",
      "20946/20946 [==============================] - 127s 6ms/sample - loss: 0.0199 - accuracy: 0.9966\n",
      "Epoch 19/20\n",
      "20946/20946 [==============================] - 127s 6ms/sample - loss: 0.0195 - accuracy: 0.9973\n",
      "Epoch 20/20\n",
      "20946/20946 [==============================] - 126s 6ms/sample - loss: 0.0215 - accuracy: 0.9968\n"
     ]
    },
    {
     "data": {
      "text/plain": [
       "<tensorflow.python.keras.callbacks.History at 0x237f24c7710>"
      ]
     },
     "execution_count": 12,
     "metadata": {},
     "output_type": "execute_result"
    }
   ],
   "source": [
    "time.sleep(30)\n",
    "resnet=tensorflow.keras.applications.ResNet50(include_top=False,weights='imagenet',input_shape=train_data.shape[1:])\n",
    "# Freeze the layers except the last 10 layers\n",
    "for layer in resnet.layers[:-10]:\n",
    "    layer.trainable = False\n",
    "for layer in resnet.layers[-10:]:\n",
    "    layer.trainable=True\n",
    "model=keras.Sequential([\n",
    "    resnet,\n",
    "    keras.layers.AveragePooling2D(2,2),\n",
    "    keras.layers.Flatten(),\n",
    "    keras.layers.Dropout(0.5),\n",
    "    keras.layers.Dense(1,activation='sigmoid')\n",
    "    ])\n",
    "model.compile(optimizer='adam',loss='binary_crossentropy',metrics=['accuracy'])\n",
    "model.fit(train_data,train_ans,epochs=20)\n"
   ]
  },
  {
   "cell_type": "code",
   "execution_count": 13,
   "metadata": {},
   "outputs": [
    {
     "name": "stdout",
     "output_type": "stream",
     "text": [
      "4000/4000 [==============================] - 19s 5ms/sample - loss: 0.5337 - accuracy: 0.9803\n"
     ]
    },
    {
     "data": {
      "text/plain": [
       "[0.5336768884689803, 0.98025]"
      ]
     },
     "execution_count": 13,
     "metadata": {},
     "output_type": "execute_result"
    }
   ],
   "source": [
    "model.evaluate(test_data,test_ans)"
   ]
  },
  {
   "cell_type": "code",
   "execution_count": null,
   "metadata": {},
   "outputs": [],
   "source": []
  }
 ],
 "metadata": {
  "kernelspec": {
   "display_name": "Python 3",
   "language": "python",
   "name": "python3"
  },
  "language_info": {
   "codemirror_mode": {
    "name": "ipython",
    "version": 3
   },
   "file_extension": ".py",
   "mimetype": "text/x-python",
   "name": "python",
   "nbconvert_exporter": "python",
   "pygments_lexer": "ipython3",
   "version": "3.7.0"
  }
 },
 "nbformat": 4,
 "nbformat_minor": 4
}
